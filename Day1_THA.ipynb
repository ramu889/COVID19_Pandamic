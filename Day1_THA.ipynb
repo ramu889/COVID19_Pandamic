{
 "cells": [
  {
   "cell_type": "code",
   "execution_count": 2,
   "metadata": {},
   "outputs": [
    {
     "data": {
      "text/plain": [
       "'Gwalior'"
      ]
     },
     "execution_count": 2,
     "metadata": {},
     "output_type": "execute_result"
    }
   ],
   "source": [
    "district=\"Gwalior\"\n",
    "district"
   ]
  },
  {
   "cell_type": "code",
   "execution_count": 3,
   "metadata": {},
   "outputs": [
    {
     "data": {
      "text/plain": [
       "'Infected total till date=1234'"
      ]
     },
     "execution_count": 3,
     "metadata": {},
     "output_type": "execute_result"
    }
   ],
   "source": [
    "#Assume today is 12th Jun \n",
    "total_infected=\"Infected total till date=1234\"\n",
    "total_infected"
   ]
  },
  {
   "cell_type": "code",
   "execution_count": 4,
   "metadata": {},
   "outputs": [
    {
     "data": {
      "text/plain": [
       "'Infected on 10th June 2020=12'"
      ]
     },
     "execution_count": 4,
     "metadata": {},
     "output_type": "execute_result"
    }
   ],
   "source": [
    "FirstDay_infected=\"Infected on 10th June 2020=12\"\n",
    "FirstDay_infected"
   ]
  },
  {
   "cell_type": "code",
   "execution_count": 5,
   "metadata": {},
   "outputs": [
    {
     "data": {
      "text/plain": [
       "'Infected on 11th June 2020=2'"
      ]
     },
     "execution_count": 5,
     "metadata": {},
     "output_type": "execute_result"
    }
   ],
   "source": [
    "SecondDay_infected=\"Infected on 11th June 2020=2\"\n",
    "SecondDay_infected"
   ]
  },
  {
   "cell_type": "code",
   "execution_count": 6,
   "metadata": {},
   "outputs": [
    {
     "data": {
      "text/plain": [
       "'Infected on 12th June 2020=13'"
      ]
     },
     "execution_count": 6,
     "metadata": {},
     "output_type": "execute_result"
    }
   ],
   "source": [
    "ThirdDay_infected=\"Infected on 12th June 2020=13\"\n",
    "ThirdDay_infected"
   ]
  },
  {
   "cell_type": "code",
   "execution_count": 7,
   "metadata": {},
   "outputs": [
    {
     "data": {
      "text/plain": [
       "98.78444084278767"
      ]
     },
     "execution_count": 7,
     "metadata": {},
     "output_type": "execute_result"
    }
   ],
   "source": [
    "#Finding 1st day percentage\n",
    "total=1234\n",
    "firstday=12\n",
    "secondday=2\n",
    "thirdday=13\n",
    "cases_ason_firstday=total-thirdday-secondday\n",
    "cases_ason_firstday\n",
    "firstday_percentage=(cases_ason_firstday/total)*100\n",
    "firstday_percentage\n"
   ]
  },
  {
   "cell_type": "code",
   "execution_count": 8,
   "metadata": {},
   "outputs": [
    {
     "data": {
      "text/plain": [
       "98.94651539708266"
      ]
     },
     "execution_count": 8,
     "metadata": {},
     "output_type": "execute_result"
    }
   ],
   "source": [
    "#Finding 2nd day percentage\n",
    "cases_ason_secondday=total-thirdday\n",
    "cases_ason_secondday\n",
    "secondday_percentage=(cases_ason_secondday/total)*100\n",
    "secondday_percentage"
   ]
  },
  {
   "cell_type": "code",
   "execution_count": 9,
   "metadata": {},
   "outputs": [
    {
     "data": {
      "text/plain": [
       "100.0"
      ]
     },
     "execution_count": 9,
     "metadata": {},
     "output_type": "execute_result"
    }
   ],
   "source": [
    "#Finding 3rd day percentage\n",
    "cases_ason_thirdday=total\n",
    "cases_ason_thirdday\n",
    "thirdday_percentage=(cases_ason_thirdday/total)*100\n",
    "thirdday_percentage"
   ]
  },
  {
   "cell_type": "code",
   "execution_count": 10,
   "metadata": {},
   "outputs": [
    {
     "name": "stdout",
     "output_type": "stream",
     "text": [
      "Third day variation is: 1.05%\n"
     ]
    }
   ],
   "source": [
    "#Finding variation % in given days\n",
    "third_variation=round(thirdday_percentage-secondday_percentage,2)\n",
    "third_variation\n"
   ]
  },
  {
   "cell_type": "code",
   "execution_count": 11,
   "metadata": {},
   "outputs": [
    {
     "name": "stdout",
     "output_type": "stream",
     "text": [
      "Second day variation is: 0.16%\n"
     ]
    }
   ],
   "source": [
    "#Finding variation % in given days\n",
    "second_variation=round(secondday_percentage-firstday_percentage,2)\n",
    "second_variation\n"
   ]
  },
  {
   "cell_type": "code",
   "execution_count": 14,
   "metadata": {},
   "outputs": [
    {
     "name": "stdout",
     "output_type": "stream",
     "text": [
      "Variation between 1st and 3rd day is 1.22%\n"
     ]
    }
   ],
   "source": [
    "#Finding variation % between 1st and 3rd day\n",
    "variation=round(thirdday_percentage-firstday_percentage,2)\n",
    "variation\n"
   ]
  },
  {
   "cell_type": "code",
   "execution_count": 16,
   "metadata": {},
   "outputs": [
    {
     "name": "stdout",
     "output_type": "stream",
     "text": [
      "Variation % between 1st and 2nd day is: 0.16%\n",
      "Variation % between 2nd and 3rd day is: 1.05%\n",
      "Variation % between 1st and 3rd day is: 1.22%\n"
     ]
    }
   ],
   "source": [
    "print('Variation % between 1st and 2nd day is: '+ str(second_variation)+'%')\n",
    "print('Variation % between 2nd and 3rd day is: '+ str(third_variation)+'%')\n",
    "print('Variation % between 1st and 3rd day is: {}'.format( str(variation))+'%')"
   ]
  },
  {
   "cell_type": "code",
   "execution_count": null,
   "metadata": {},
   "outputs": [],
   "source": []
  }
 ],
 "metadata": {
  "kernelspec": {
   "display_name": "Python 3",
   "language": "python",
   "name": "python3"
  },
  "language_info": {
   "codemirror_mode": {
    "name": "ipython",
    "version": 3
   },
   "file_extension": ".py",
   "mimetype": "text/x-python",
   "name": "python",
   "nbconvert_exporter": "python",
   "pygments_lexer": "ipython3",
   "version": "3.8.3"
  }
 },
 "nbformat": 4,
 "nbformat_minor": 4
}
